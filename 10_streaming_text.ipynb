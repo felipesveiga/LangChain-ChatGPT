{
 "cells": [
  {
   "cell_type": "markdown",
   "id": "ac249761-6f1d-4a8f-b9b6-604140eaa075",
   "metadata": {},
   "source": [
    "<h1 style='font-size:40px'> Streaming Text Generation</h1>"
   ]
  },
  {
   "cell_type": "markdown",
   "id": "76ee31f4-ac58-4fa5-91fb-df541eb06b42",
   "metadata": {},
   "source": [
    "<h2 style='font-size:30px'>  Streaming Text Generation</h2>\n",
    "<div> \n",
    "    <ul style='font-size:20px'> \n",
    "        <li>   \n",
    "        </li>\n",
    "    </ul>\n",
    " </div>"
   ]
  },
  {
   "cell_type": "markdown",
   "id": "551019f3-4dc7-4ea9-90fe-2b33588336ba",
   "metadata": {},
   "source": [
    "<p style='color:red'> Vi Aula 96; Iniciar seção 10</p>"
   ]
  }
 ],
 "metadata": {
  "kernelspec": {
   "display_name": "Python 3 (ipykernel)",
   "language": "python",
   "name": "python3"
  },
  "language_info": {
   "codemirror_mode": {
    "name": "ipython",
    "version": 3
   },
   "file_extension": ".py",
   "mimetype": "text/x-python",
   "name": "python",
   "nbconvert_exporter": "python",
   "pygments_lexer": "ipython3",
   "version": "3.11.7"
  }
 },
 "nbformat": 4,
 "nbformat_minor": 5
}
