{
 "cells": [
  {
   "cell_type": "markdown",
   "id": "e043c94d-01fc-46a8-86cb-0c7ac806bfb7",
   "metadata": {},
   "source": [
    "<h1 style='font-size:40px'> Adding Context with Embedding Techniques</h1>"
   ]
  },
  {
   "cell_type": "markdown",
   "id": "ab091f72-84e7-4dd1-a134-86bdc91edded",
   "metadata": {},
   "source": [
    "<h2 style='font-size:30px'> Project Overview</h2>\n",
    "<div> \n",
    "    <ul style='font-size:20px'> \n",
    "        <li> \n",
    "            Aprenderemos aqui a criar um ChatBot com contexto enriquecido por uma fonte de informações externa. Ela poderá ser consultada pelo LLM, a fim de responder uma pergunta cujo assunto pode não estar armazenado na estrutura da IA.\n",
    "        </li>\n",
    "        <li>\n",
    "            Essa técnica pode ter uma série de aplicações úteis no mercado.\n",
    "        </li>\n",
    "    </ul>\n",
    " </div>"
   ]
  },
  {
   "cell_type": "markdown",
   "id": "e7619471-feb9-4751-89a2-2bc4d0da03cb",
   "metadata": {},
   "source": [
    "<h2 style='font-size:30px'> Loading Files with Document Loaders</h2>\n",
    "<div> \n",
    "    <ul style='font-size:20px'> \n",
    "        <li> \n",
    "            O LangChain oferece uma série de classes capazes de ler e extrair o conteúdo de arquivos de diversas extensões. Usá-las pode requerir a instalação de algumas outras libs.\n",
    "        </li>\n",
    "        <li>\n",
    "            A leitura do arquivo resultará em uma outra classe chamada `Document`. Ela terá um atributo com o conteúdo do arquivo (page_content), e outra com seus metadados (metadata).\n",
    "        </li>\n",
    "        <li>\n",
    "            Existem, inclusive, classes de leitura de arquivos em dispositivos remotos (Bucket do S3) que podemos usar.\n",
    "        </li>\n",
    "    </ul>\n",
    " </div>"
   ]
  },
  {
   "cell_type": "markdown",
   "id": "84e4112b-a927-4dbd-b051-6b1b50ac363b",
   "metadata": {},
   "source": [
    "<h2 style='font-size:30px'> Search Criteria</h2>\n",
    "<div> \n",
    "    <ul style='font-size:20px'> \n",
    "        <li> \n",
    "            O que faremos em nosso chatbot é providenciar parte do texto do '04_facts.txt' ao prompt do ChatBot para ajudá-lo a responder nossas perguntas. Nós poderíamos tentar apenas copiar e colar todo o conteúdo do arquivo, mas, como sabemos, ele pode não caber em toda a janela de contexto\n",
    "        </li>\n",
    "        <li>\n",
    "            Nós usaremos embeddings junto com proximidade semântica a fim de selecionarmos os melhores trechos para implantar no prompt!\n",
    "        </li>\n",
    "    </ul>\n",
    " </div>"
   ]
  },
  {
   "cell_type": "markdown",
   "id": "4cc95bab-cdc3-4eab-8a96-3bd89a852d42",
   "metadata": {},
   "source": [
    "<h2 style='font-size:30px'> Introducing Embeddings</h2>\n",
    "<div> \n",
    "    <ul style='font-size:20px'> \n",
    "        <li> \n",
    "            Os Embeddings nada mais são do que vetores que encapsulam numericamente a semântica de uma frase.\n",
    "        </li>\n",
    "        <li>\n",
    "            Eles são produzidos por um Transformer, na estrutura de Encoder.\n",
    "        </li>\n",
    "    </ul>\n",
    " </div>"
   ]
  },
  {
   "cell_type": "markdown",
   "id": "9053196a-9034-44d8-bec1-9df4e12551e2",
   "metadata": {},
   "source": [
    "<h3 style='font-size:30px;font-style:italic'> Análise de  Semelhanças Semânticas</h3>\n",
    "<div> \n",
    "    <ul style='font-size:20px'> \n",
    "        <li> \n",
    "            Uma vez produzidos os vetores, podemos analisar a similaridade semântica entre sentenças de duas formas principais: distâncias Minkowski e cosseno.\n",
    "        </li>\n",
    "    </ul>\n",
    "</div>"
   ]
  },
  {
   "cell_type": "markdown",
   "id": "c07c288c-85ee-4c86-825f-045782f7e9ec",
   "metadata": {},
   "source": [
    "<h2 style='font-size:30px'> The Entire Embedding Flow</h2>\n",
    "<div> \n",
    "    <ul style='font-size:20px'> \n",
    "        <li> \n",
    "            O enriquecimento de contexto de nosso LLM se dará com a criação de vetores de pedaços do nosso texto. Eles serão depositados em uma base de dados vetorial.\n",
    "        </li>\n",
    "        <li>\n",
    "            Uma vez feita a pergunta do usuário, vamos transformá-la também em um vetor a fim de localizar os pedaços de texto mais similares com ela (Distância Euclidiana, cosseno).\n",
    "        </li>\n",
    "        <li>\n",
    "            Por fim, passaremos esse fragmento junto ao Prompt para auxiliar o modelo a responder a questão!\n",
    "        </li>\n",
    "    </ul>\n",
    " </div>"
   ]
  },
  {
   "cell_type": "markdown",
   "id": "aabd02e9-5a2a-47bc-b302-66b7e0ba1c57",
   "metadata": {},
   "source": [
    "<h2 style='font-size:30px'> Chunking Text</h2>\n",
    "<div> \n",
    "    <ul style='font-size:20px'> \n",
    "        <li> \n",
    "            Nós usaremos a classe `CharacterTextSplitter` para fragmentarmos o nosso documento. Ela vai quebrar o texto em pedaços de até `chunk_size` caracteres com base em uma string `separator`. A classe vai comportar o máximo de texto possível dentro de cada `Document` que termine com o separador desejado.\n",
    "        </li>\n",
    "        <li> \n",
    "            O argumento `chunk_overlap` define o limite máximo de caracteres do fragmento anterior que serão incluídos no atual. Isso pode contribuir para a contextualização do novo pedaço.\n",
    "        </li>\n",
    "        <li>\n",
    "            A classe que carrega o arquivo deverá ter o método `load_and_split` invocado, com a `CharacterTextSplitter` como argumento.\n",
    "            <center style='margin-top:20px'> \n",
    "                <img src='img/04_splitter.png'>\n",
    "            </center>\n",
    "        </li>\n",
    "    </ul>\n",
    " </div>"
   ]
  },
  {
   "cell_type": "markdown",
   "id": "e845428d-0f9a-45f3-9690-1e99772d893f",
   "metadata": {},
   "source": [
    "<p style='color:red'> Aula 34</p>"
   ]
  }
 ],
 "metadata": {
  "kernelspec": {
   "display_name": "Python 3 (ipykernel)",
   "language": "python",
   "name": "python3"
  },
  "language_info": {
   "codemirror_mode": {
    "name": "ipython",
    "version": 3
   },
   "file_extension": ".py",
   "mimetype": "text/x-python",
   "name": "python",
   "nbconvert_exporter": "python",
   "pygments_lexer": "ipython3",
   "version": "3.11.7"
  }
 },
 "nbformat": 4,
 "nbformat_minor": 5
}
