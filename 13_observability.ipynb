{
 "cells": [
  {
   "cell_type": "markdown",
   "id": "d44ae1df-a80c-4a9b-8e8b-3bb1c5799b13",
   "metadata": {},
   "source": [
    "<h1 style='font-size:40px'> Implementing Tracing and Observability</h1>"
   ]
  },
  {
   "cell_type": "markdown",
   "id": "5b428f19-af73-41be-80bd-a090c4798983",
   "metadata": {},
   "source": [
    "<h2 style='font-size:30px'> Adding Score Observability</h2>\n",
    "<div> \n",
    "    <ul style='font-size:20px'> \n",
    "        <li>\n",
    "            Existe uma aba \"scores\" no nosso site, que deverá exibir as pontuações de satisfação de cada componente de nossa aplicação.\n",
    "        </li>\n",
    "        <li>\n",
    "            Nós desenvolveremos uma função `get_scores`, que retornará um dicionário com os dados para essa aba.\n",
    "        </li>\n",
    "    </ul>\n",
    " </div>"
   ]
  },
  {
   "cell_type": "markdown",
   "id": "9aaa6337-bbb2-4c1f-b7ec-5c7832276383",
   "metadata": {},
   "source": [
    "<h2 style='font-size:30px'> Adding Score Observability</h2>\n",
    "<div> \n",
    "    <ul style='font-size:20px'> \n",
    "        <li>\n",
    "            Existe uma aba \"scores\" no nosso site, que deverá exibir as pontuações de satisfação de cada componente de nossa aplicação.\n",
    "        </li>\n",
    "        <li>\n",
    "            Nós desenvolveremos uma função `get_scores`, que retornará um dicionário com os dados para essa aba.\n",
    "        </li>\n",
    "    </ul>\n",
    " </div>"
   ]
  },
  {
   "cell_type": "markdown",
   "id": "50e6d0b4-bc8f-43ff-8f03-e47d6b4f70ea",
   "metadata": {},
   "source": [
    "<h2 style='font-size:30px'>  Building the Score Aggregate</h2>\n",
    "<div> \n",
    "    <ul style='font-size:20px'> \n",
    "        <li>\n",
    "            Uma vez feita a função, poderemos enxergar um dashboard na aba scores.\n",
    "            <center style='margin-top:20px'> \n",
    "                <img src='img/13_scores_dashboard.png'>\n",
    "            </center>\n",
    "        </li>\n",
    "    </ul>\n",
    " </div>"
   ]
  },
  {
   "cell_type": "markdown",
   "id": "039cb4a3-cfe4-417f-8fcb-558c6d956a87",
   "metadata": {},
   "source": [
    "<p style='color:red'> Vi Aula 128 e 129; Aula 130; Programar simples para terminar logo o curso</p>"
   ]
  }
 ],
 "metadata": {
  "kernelspec": {
   "display_name": "Python 3 (ipykernel)",
   "language": "python",
   "name": "python3"
  },
  "language_info": {
   "codemirror_mode": {
    "name": "ipython",
    "version": 3
   },
   "file_extension": ".py",
   "mimetype": "text/x-python",
   "name": "python",
   "nbconvert_exporter": "python",
   "pygments_lexer": "ipython3",
   "version": "3.10.12"
  }
 },
 "nbformat": 4,
 "nbformat_minor": 5
}
