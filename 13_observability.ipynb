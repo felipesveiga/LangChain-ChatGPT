{
 "cells": [
  {
   "cell_type": "markdown",
   "id": "d44ae1df-a80c-4a9b-8e8b-3bb1c5799b13",
   "metadata": {},
   "source": [
    "<h1 style='font-size:40px'> Implementing Tracing and Observability</h1>"
   ]
  },
  {
   "cell_type": "markdown",
   "id": "5b428f19-af73-41be-80bd-a090c4798983",
   "metadata": {},
   "source": [
    "<h2 style='font-size:30px'> Adding Score Observability</h2>\n",
    "<div> \n",
    "    <ul style='font-size:20px'> \n",
    "        <li>\n",
    "            Existe uma aba \"scores\" no nosso site, que deverá exibir as pontuações de satisfação de cada componente de nossa aplicação.\n",
    "        </li>\n",
    "        <li>\n",
    "            Nós desenvolveremos uma função `get_scores`, que retornará um dicionário com os dados para essa aba.\n",
    "        </li>\n",
    "    </ul>\n",
    " </div>"
   ]
  },
  {
   "cell_type": "markdown",
   "id": "9aaa6337-bbb2-4c1f-b7ec-5c7832276383",
   "metadata": {},
   "source": [
    "<h2 style='font-size:30px'> Adding Score Observability</h2>\n",
    "<div> \n",
    "    <ul style='font-size:20px'> \n",
    "        <li>\n",
    "            Existe uma aba \"scores\" no nosso site, que deverá exibir as pontuações de satisfação de cada componente de nossa aplicação.\n",
    "        </li>\n",
    "        <li>\n",
    "            Nós desenvolveremos uma função `get_scores`, que retornará um dicionário com os dados para essa aba.\n",
    "        </li>\n",
    "    </ul>\n",
    " </div>"
   ]
  },
  {
   "cell_type": "markdown",
   "id": "50e6d0b4-bc8f-43ff-8f03-e47d6b4f70ea",
   "metadata": {},
   "source": [
    "<h2 style='font-size:30px'>  Building the Score Aggregate</h2>\n",
    "<div> \n",
    "    <ul style='font-size:20px'> \n",
    "        <li>\n",
    "            Uma vez feita a função, poderemos enxergar um dashboard na aba scores.\n",
    "            <center style='margin-top:20px'> \n",
    "                <img src='img/13_scores_dashboard.png'>\n",
    "            </center>\n",
    "        </li>\n",
    "    </ul>\n",
    " </div>"
   ]
  },
  {
   "cell_type": "markdown",
   "id": "c9d45fd7-c23a-4501-bd7c-4cf7a93ddd7a",
   "metadata": {},
   "source": [
    "<h2 style='font-size:30px'> Adding Another Form of Memory</h2>\n",
    "<div> \n",
    "    <ul style='font-size:20px'> \n",
    "        <li>\n",
    "            Nós adicionaremos uma segunda modalidade de memória em nosso programa, que será a versão de janela da ConversationBufferMemory.\n",
    "        </li>\n",
    "        <li>\n",
    "            As classes de Window do LangChain propõem armazenar apenas os últimos k pares de trocas de mensagens entre usuário e LLM. É uma ótima opção, pensando em menor consumo da memória de nosso computador.\n",
    "        </li>\n",
    "    </ul>\n",
    " </div>"
   ]
  },
  {
   "cell_type": "markdown",
   "id": "c94fbcf2-2fce-4f0d-bfa1-157b6c2d7767",
   "metadata": {},
   "source": [
    "<h2 style='font-size:30px'>  Text Generation Tracing</h2>\n",
    "<div> \n",
    "    <ul style='font-size:20px'> \n",
    "        <li>\n",
    "            Considerando a complexidade de todo o software criado, seria interessante conseguirmos monitorar a jornada das informações, desde a requisição do nosso cliente, até a geração do output.\n",
    "        </li>\n",
    "        <li>\n",
    "            Nós utilizaremos o LangFuse, produto que tem uma fácil integração com o LangChain e que pode ser self-hosted. \n",
    "        </li>\n",
    "    </ul>\n",
    " </div>"
   ]
  },
  {
   "cell_type": "markdown",
   "id": "2cb356d2-5c23-49eb-81a2-2e7ddf17bc37",
   "metadata": {},
   "source": [
    "<h2 style='font-size:30px'>  Langfuse Signup</h2>\n",
    "<div> \n",
    "    <ul style='font-size:20px'> \n",
    "        <li>\n",
    "            Nesta aula, tivemos que nos cadastrar no siter do Langfuse e obter as chaves que utilizaremos na implementação do tracing.\n",
    "        </li>\n",
    "    </ul>\n",
    " </div>"
   ]
  },
  {
   "cell_type": "code",
   "execution_count": 2,
   "id": "6665d4c2-5b82-45be-9fb3-5fc4c6a5c333",
   "metadata": {},
   "outputs": [
    {
     "name": "stdout",
     "output_type": "stream",
     "text": [
      "/bin/bash: -c: line 1: unexpected EOF while looking for matching `''\n",
      "/bin/bash: -c: line 2: syntax error: unexpected end of file\n",
      "Everything up-to-date\n"
     ]
    }
   ],
   "source": [
    "! git add .\n",
    "! git commit -am 'Aula 134 (4:40)'\n",
    "! git push"
   ]
  },
  {
   "cell_type": "markdown",
   "id": "039cb4a3-cfe4-417f-8fcb-558c6d956a87",
   "metadata": {},
   "source": [
    "<p style='color:red'> Vi Aulas 133 e iniciei 134; Aula 134 (4:40)</p>"
   ]
  }
 ],
 "metadata": {
  "kernelspec": {
   "display_name": "Python 3 (ipykernel)",
   "language": "python",
   "name": "python3"
  },
  "language_info": {
   "codemirror_mode": {
    "name": "ipython",
    "version": 3
   },
   "file_extension": ".py",
   "mimetype": "text/x-python",
   "name": "python",
   "nbconvert_exporter": "python",
   "pygments_lexer": "ipython3",
   "version": "3.10.12"
  }
 },
 "nbformat": 4,
 "nbformat_minor": 5
}
