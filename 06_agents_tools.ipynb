{
 "cells": [
  {
   "cell_type": "markdown",
   "id": "3cca2c62-973c-477e-befd-fcb463832903",
   "metadata": {},
   "source": [
    "<h1 style='font-size:40px'> Empower ChatGPT with Tools and Agents</h1>"
   ]
  },
  {
   "cell_type": "markdown",
   "id": "d2d4dade-f46a-4ecc-a69a-0aac23f4b283",
   "metadata": {},
   "source": [
    "<h2 style='font-size:30px'> App Overview</h2>\n",
    "<div> \n",
    "    <ul style='font-size:20px'> \n",
    "        <li> \n",
    "            Nesta seção, vamos criar uma aplicação que recorre a um LLM para consultar bancos de dados relacionais.\n",
    "        </li>\n",
    "        <li>\n",
    "            Dada uma pergunta da área de negócio, ele deverá escrever uma query que será executada no DB, e a responderá com base no output retornado.\n",
    "        </li>\n",
    "    </ul>\n",
    "</div>"
   ]
  },
  {
   "cell_type": "markdown",
   "id": "2655681d-d1ab-4a55-b345-37391576fac1",
   "metadata": {},
   "source": [
    "<h2 style='font-size:30px'> Understanding Tools</h2>\n",
    "<div> \n",
    "    <ul style='font-size:20px'> \n",
    "        <li> \n",
    "            Tools são nada mais do que funções que descrevemos ao LLM para resolver determinada tarefa. Diante de um cenário, o modelo pode concluir de que  não é capaz de responder a pergunta, por si só, e recorrer a uma das tools definidas.\n",
    "        </li>\n",
    "        <li>\n",
    "            É claro que um modelo não é capaz de abrir o seu terminal e executar a função. O que nós o faremos responder será um JSON que informa a tool selecionada, juntamente com os argumentos a serem utilizados. Nós, posteriormente, vamos obter os valores do dicionário a fim de acionar a função (já escrita em código) em nosso computador.\n",
    "        </li>\n",
    "        <li>\n",
    "            Por fim, nós pegaremos o resultado da execução, e o daremos ao modelo para que ele possa responder a questão.\n",
    "        </li>\n",
    "    </ul>\n",
    "    <figure>\n",
    "        <center style='margin-top:20px'> \n",
    "            <img src='img/06_tool_definition.png'>\n",
    "            <figcaption> Exemplo da definição de uma função para escrita de queries.</figcaption>\n",
    "        </center>\n",
    "    </figure>\n",
    "</div>"
   ]
  },
  {
   "cell_type": "markdown",
   "id": "7c297904-2445-4947-ba86-e89cd7943ac2",
   "metadata": {},
   "source": [
    "<h2 style='font-size:30px'> Understanding ChatGPT Functions</h2>\n",
    "<div> \n",
    "    <ul style='font-size:20px'> \n",
    "        <li> \n",
    "            Uma maneira um pouco mais concisa de definirmos funções ao ChatGPT seria com JSON's. Eles devem ter uma formatação especial que aprenderemos a seguir. Nós criamos uma lista dentro da qual vamos inserir as \"declarações\".\n",
    "            <center style='margin-top:20px'> \n",
    "                <img src='img/06_function_json.png'>\n",
    "            </center>\n",
    "        </li>\n",
    "        <li style='margin-top:20px'>\n",
    "            Caso decida por utilizar nossa função, o ChatGPT retornará a sua resposta com uma chave \"function_call\", com o método escolhido e argumentos.\n",
    "            <center style='margin-top:20px'> \n",
    "                <img src='img/06_function_call.png'>\n",
    "            </center>\n",
    "        </li>\n",
    "    </ul>\n",
    "</div>"
   ]
  },
  {
   "cell_type": "markdown",
   "id": "8d72027b-5fcf-4b9b-baaf-c4069269ddfe",
   "metadata": {},
   "source": [
    "<h2 style='font-size:30px'> Defining a Tool</h2>\n",
    "<div> \n",
    "    <ul style='font-size:20px'> \n",
    "        <li> \n",
    "            O LangChain possui uma classe que cuidará da formatação dos metadados de nossa função. Nós devemos passá-la junto com um determinado nome e descrição de suas funcionalidades.\n",
    "            <center style='margin-top:20px'> \n",
    "                <img src='img/06_tool.png'>\n",
    "            </center>\n",
    "        </li>\n",
    "    </ul>\n",
    "</div>"
   ]
  },
  {
   "cell_type": "markdown",
   "id": "63377b38-fa3a-4f97-a616-4d2784067631",
   "metadata": {},
   "source": [
    "<p style='color:red'> Documentei funções do projeto e vi a aula 52; Aula 53 (entender os tipos de agentes e implementá-los no projeto)</p>"
   ]
  }
 ],
 "metadata": {
  "kernelspec": {
   "display_name": "Python 3 (ipykernel)",
   "language": "python",
   "name": "python3"
  },
  "language_info": {
   "codemirror_mode": {
    "name": "ipython",
    "version": 3
   },
   "file_extension": ".py",
   "mimetype": "text/x-python",
   "name": "python",
   "nbconvert_exporter": "python",
   "pygments_lexer": "ipython3",
   "version": "3.11.7"
  }
 },
 "nbformat": 4,
 "nbformat_minor": 5
}
