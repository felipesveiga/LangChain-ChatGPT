{
 "cells": [
  {
   "cell_type": "markdown",
   "id": "3cca2c62-973c-477e-befd-fcb463832903",
   "metadata": {},
   "source": [
    "<h1 style='font-size:40px'> Empower ChatGPT with Tools and Agents</h1>"
   ]
  },
  {
   "cell_type": "markdown",
   "id": "d2d4dade-f46a-4ecc-a69a-0aac23f4b283",
   "metadata": {},
   "source": [
    "<h2 style='font-size:30px'> Introducing Chroma DB</h2>\n",
    "<div> \n",
    "    <ul style='font-size:20px'> \n",
    "        <li> \n",
    "            Nesta seção, vamos criar uma aplicação que recorre a um LLM para consultar bancos de dados relacionais.\n",
    "        </li>\n",
    "        <li>\n",
    "            Dada uma pergunta da área de negócio, ele deverá escrever uma query que será executada no DB, e respondê-la com base no output retornado.\n",
    "        </li>\n",
    "    </ul>\n",
    "</div>"
   ]
  },
  {
   "cell_type": "markdown",
   "id": "63377b38-fa3a-4f97-a616-4d2784067631",
   "metadata": {},
   "source": [
    "<p style='color:red'> Aula 48</p>"
   ]
  }
 ],
 "metadata": {
  "kernelspec": {
   "display_name": "Python 3 (ipykernel)",
   "language": "python",
   "name": "python3"
  },
  "language_info": {
   "codemirror_mode": {
    "name": "ipython",
    "version": 3
   },
   "file_extension": ".py",
   "mimetype": "text/x-python",
   "name": "python",
   "nbconvert_exporter": "python",
   "pygments_lexer": "ipython3",
   "version": "3.11.7"
  }
 },
 "nbformat": 4,
 "nbformat_minor": 5
}
