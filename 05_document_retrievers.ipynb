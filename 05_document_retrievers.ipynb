{
 "cells": [
  {
   "cell_type": "markdown",
   "id": "5a32b216-a2b4-4714-a2ad-ee7c2b62da65",
   "metadata": {},
   "source": [
    "<h1 style='font-size:40px'> Custom Document Retrievers</h1>"
   ]
  },
  {
   "cell_type": "markdown",
   "id": "73da8562-6771-4557-8b44-8585c8f2fea0",
   "metadata": {},
   "source": [
    "<p style='color:red'> Introducing ChromaDB (4:50), explicar a classe Chroma</p>"
   ]
  }
 ],
 "metadata": {
  "kernelspec": {
   "display_name": "Python 3 (ipykernel)",
   "language": "python",
   "name": "python3"
  },
  "language_info": {
   "codemirror_mode": {
    "name": "ipython",
    "version": 3
   },
   "file_extension": ".py",
   "mimetype": "text/x-python",
   "name": "python",
   "nbconvert_exporter": "python",
   "pygments_lexer": "ipython3",
   "version": "3.11.7"
  }
 },
 "nbformat": 4,
 "nbformat_minor": 5
}
