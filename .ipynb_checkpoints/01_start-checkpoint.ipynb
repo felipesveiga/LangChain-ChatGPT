{
 "cells": [
  {
   "cell_type": "markdown",
   "id": "979062c4-dca2-49d4-abc8-c899272a5e08",
   "metadata": {},
   "source": [
    "<h1 style='font-size:40px'> Let's Start - Dive In Here!</h1>"
   ]
  },
  {
   "cell_type": "markdown",
   "id": "f803565e-716d-4a52-840c-63429eeda120",
   "metadata": {
    "tags": []
   },
   "source": [
    "<h2 style='font-size:30px'> How to Get Help</h2>\n",
    "<div> \n",
    "    <ul style='font-size:20px'> \n",
    "        <li> \n",
    "            O curso disponibiliza os code snippets de cada seção. Além disso, existe uma comunidade no Discord onde podemos sanar dúvidas.\n",
    "        </li>\n",
    "    </ul>\n",
    "</div>"
   ]
  },
  {
   "cell_type": "markdown",
   "id": "94e9424d-c131-4089-bca9-df8b4aa1cd82",
   "metadata": {
    "tags": []
   },
   "source": [
    "<h2 style='font-size:30px'> What is LangChain?</h2>\n",
    "<div> \n",
    "    <ul style='font-size:20px'> \n",
    "        <li> \n",
    "            Para entendermos melhor como o LangChain funciona, nós utilizaremos primeiramente a API da pdf.AI. Aprenderemos o seu modo de atuação para depois discutirmos o pacote.\n",
    "        </li>\n",
    "    </ul>\n",
    "</div>"
   ]
  },
  {
   "cell_type": "markdown",
   "id": "93799041-7577-4fda-9e2e-5ed40a94fcfc",
   "metadata": {
    "tags": []
   },
   "source": [
    "<h2 style='font-size:30px'> How a Typical AI-Enabled App Works</h2>\n",
    "<div> \n",
    "    <ul style='font-size:20px'> \n",
    "        <li> \n",
    "            Vamos entender como o pdf.AI funciona.\n",
    "        </li>\n",
    "    </ul>\n",
    "</div>"
   ]
  },
  {
   "cell_type": "markdown",
   "id": "6af0996b-4451-48ba-9289-87c81b388121",
   "metadata": {},
   "source": [
    "<h3 style='font-size:30px;font-style:italic'> Ciclo de Funcionamento do pdf.AI</h3>\n",
    "<div> \n",
    "    <ul style='font-size:20px'> \n",
    "        <li> \n",
    "            Quando o usuário carrega o pdf no site, o modelo quebra o texto em pedaços e atribui um embedding (vetor) a cada um deles. Todos esses embeddings são armazenados em uma base de dados vetorial.\n",
    "            <center style='margin-top:20px'> \n",
    "                <h1> Base de Dados Vetorial</h1>\n",
    "                <img src='img/01_vector_store.png'>\n",
    "            </center>\n",
    "        </li>\n",
    "        <li> \n",
    "            Assim, quando o usuário fizer uma pergunta, ela também será convertida em um embbeding. Sua coordenadas serão usadas a fim de localizarmos o fragmento textual de vetor mais próximo ao dela.\n",
    "        </li>\n",
    "        <li> \n",
    "            Tendo o texto da pergunta e do fragmento textual selecionado, criamos um prompt no ChatGPT para que ele os leia e responda a questão.\n",
    "            <center style='margin-top:20px'> \n",
    "                <img src='img/01_pdf_gpt.png'>\n",
    "            </center>\n",
    "        </li>\n",
    "    </ul>\n",
    "</div>"
   ]
  },
  {
   "cell_type": "markdown",
   "id": "ad32e4a2-5819-46dd-ba3b-0d6d65e27114",
   "metadata": {
    "tags": []
   },
   "source": [
    "<h2 style='font-size:30px'> Here It Is, This is Why We Use LangChain</h2>\n",
    "<div> \n",
    "    <ul style='font-size:20px'> \n",
    "        <li> \n",
    "            Pudemos perceber o quão complexa é a cadeia de ações do pdf.AI. Aparentemente, realizar cada etapa mencionada levaria centenas ou milhares de linhas de código. Mas, é pensando em simplificar todo esse ciclo que o LangChain foi desenvolvido.\n",
    "        </li>\n",
    "        <li>\n",
    "            O framework contém classes prontas capazes de desempenhar facilmente cada passo da cadeia de um produto, como o pdf.AI. Por exemplo, o código abaixo apresenta um objeto que lê e extrai o texto de um pdf.\n",
    "            <center style='margin-top:20px'> \n",
    "                <img src='img/01-pdf-loader.png'>\n",
    "            </center>\n",
    "        </li>\n",
    "    </ul>\n",
    "</div>"
   ]
  },
  {
   "cell_type": "markdown",
   "id": "5c1420a5-12d2-4eda-9d1f-632723b0edc8",
   "metadata": {},
   "source": [
    "<p style='color:red'> Tentar instalar o python 3.11 para as instalações funcionarem...</p>"
   ]
  }
 ],
 "metadata": {
  "kernelspec": {
   "display_name": "Python 3 (ipykernel)",
   "language": "python",
   "name": "python3"
  },
  "language_info": {
   "codemirror_mode": {
    "name": "ipython",
    "version": 3
   },
   "file_extension": ".py",
   "mimetype": "text/x-python",
   "name": "python",
   "nbconvert_exporter": "python",
   "pygments_lexer": "ipython3",
   "version": "3.12.0"
  }
 },
 "nbformat": 4,
 "nbformat_minor": 5
}
