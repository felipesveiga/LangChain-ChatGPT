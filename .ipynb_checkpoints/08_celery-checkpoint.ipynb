{
 "cells": [
  {
   "cell_type": "markdown",
   "id": "6bb81b23-d44d-49fe-afc4-33b5cd5bd216",
   "metadata": {},
   "source": [
    "<h1 style='font-size:40px'> Distributed Text Generation with Celery</h1>"
   ]
  },
  {
   "cell_type": "markdown",
   "id": "60d763f6-2fee-4309-bb17-bd5d567f5fea",
   "metadata": {},
   "source": [
    "<h2 style='font-size:30px'> Why is Processing Taking Forever?</h2>\n",
    "<div> \n",
    "    <ul style='font-size:20px'> \n",
    "        <li>   \n",
    "            Quando um usuário encaminha o seu PDF à plataforma do nosso Chat PDF, esse tem que aguardar não apenas o upload, mas também a geração dos embeddings na tela de carregamento.\n",
    "        </li>\n",
    "        <li>\n",
    "            Como a vetorização dos textos leva um tempo considerável, a UX pode ser afetada.\n",
    "        </li>\n",
    "        <li>\n",
    "            Considerando isso, vamos aprender a criar um mecanismo que redireciona o usuário ao menu da plataforma, enquanto o upload é feito num background job\n",
    "        </li>\n",
    "    </ul>\n",
    " </div>"
   ]
  },
  {
   "cell_type": "markdown",
   "id": "76b925d5-1e85-4720-9645-e204849c1d5b",
   "metadata": {},
   "source": [
    "<h2 style='font-size:30px'> Introducing Background Jobs</h2>\n",
    "<div> \n",
    "    <ul style='font-size:20px'> \n",
    "        <li>   \n",
    "            Somos apresentados à arquitetura padrão de Background Jobs.\n",
    "        </li>\n",
    "        <li>\n",
    "            Quando desejamos que nossa aplicação faça alguma ação, encaminhamos um arquivo com instruções para um Message Broker. Esse nada mais é do que uma fila que ordena as diversas requisições recebidas - SQS ou Redis.\n",
    "        </li>\n",
    "        <li>\n",
    "            Os consumidores dos jobs da fila são conhecidos como Workers. Esses são os programas que executarão o que o arquivo pede.\n",
    "        </li>\n",
    "    </ul>\n",
    " </div>"
   ]
  },
  {
   "cell_type": "markdown",
   "id": "0efffabe-66c3-4ec5-9687-13c1ac47b3ac",
   "metadata": {},
   "source": [
    "<figure>\n",
    "    <center style='margin-top:20px'>\n",
    "        <img src='img/08_background_job_schema.png'>\n",
    "        <figcaption> Esquematização de nosso Background Job</figcaption>\n",
    "    </center>\n",
    "</figure>"
   ]
  },
  {
   "cell_type": "markdown",
   "id": "d00d8918-4e82-47de-9990-c2dcc6e734c9",
   "metadata": {},
   "source": [
    "<h2 style='font-size:30px'> Redis Setup</h2>\n",
    "<div> \n",
    "    <ul style='font-size:20px'> \n",
    "        <li>   \n",
    "            Celery é uma lib de Python que nos ajudará a arquitetar o nosso background job. Nosso projeto de Chat-PDF já possui um diretório específico para seu uso (app/celery).\n",
    "        </li>\n",
    "        <li>\n",
    "            No entanto, devemos primeiro preparar o nosso queue em Redis, antes de aplicarmos o Celery.\n",
    "        </li>\n",
    "    </ul>\n",
    " </div>"
   ]
  },
  {
   "cell_type": "markdown",
   "id": "eb603424-096c-4f17-b488-12bd229e49a6",
   "metadata": {},
   "source": [
    "<h2 style='font-size:30px'> Adding in the Worker</h2>\n",
    "<div> \n",
    "    <ul style='font-size:20px'> \n",
    "        <li>   \n",
    "            Uma vez instalado o Redis em nosso computador, vamos nos concentrar na criação do worker de nossa aplicação.\n",
    "        </li>\n",
    "        <li>\n",
    "            Defina o valor da variável REDIS_URI no arquivo .env. Para que nosso servidor web capture essa mudança, reinicie-o. \n",
    "        </li>\n",
    "        <li>\n",
    "            Você deverá também criar uma terceira janela de terminal e invocar `inv devworker` para inicializar o nosso worker!\n",
    "        </li>\n",
    "    </ul>\n",
    " </div>"
   ]
  },
  {
   "cell_type": "markdown",
   "id": "460c5f98-1098-487c-9ea7-e10725983aff",
   "metadata": {},
   "source": [
    "<p style='color:red'> Vi Aula 85; Aula 86</p>"
   ]
  }
 ],
 "metadata": {
  "kernelspec": {
   "display_name": "Python 3 (ipykernel)",
   "language": "python",
   "name": "python3"
  },
  "language_info": {
   "codemirror_mode": {
    "name": "ipython",
    "version": 3
   },
   "file_extension": ".py",
   "mimetype": "text/x-python",
   "name": "python",
   "nbconvert_exporter": "python",
   "pygments_lexer": "ipython3",
   "version": "3.11.7"
  }
 },
 "nbformat": 4,
 "nbformat_minor": 5
}
