{
 "cells": [
  {
   "cell_type": "markdown",
   "id": "e043c94d-01fc-46a8-86cb-0c7ac806bfb7",
   "metadata": {},
   "source": [
    "<h1 style='font-size:40px'> Adding Context with Embedding Techniques</h1>"
   ]
  },
  {
   "cell_type": "markdown",
   "id": "ab091f72-84e7-4dd1-a134-86bdc91edded",
   "metadata": {},
   "source": [
    "<h2 style='font-size:30px'> Project Overview</h2>\n",
    "<div> \n",
    "    <ul style='font-size:20px'> \n",
    "        <li> \n",
    "            Aprenderemos aqui a criar um ChatBot com contexto enriquecido por uma fonte de informações externa. Ela poderá ser consultada pelo LLM, a fim de responder uma pergunta cujo assunto pode não estar armazenado na estrutura da IA.\n",
    "        </li>\n",
    "        <li>\n",
    "            Essa técnica pode ter uma série de aplicações úteis no mercado.\n",
    "        </li>\n",
    "    </ul>\n",
    " </div>"
   ]
  },
  {
   "cell_type": "markdown",
   "id": "e7619471-feb9-4751-89a2-2bc4d0da03cb",
   "metadata": {},
   "source": [
    "<h2 style='font-size:30px'> Loading Files with Document Loaders</h2>\n",
    "<div> \n",
    "    <ul style='font-size:20px'> \n",
    "        <li> \n",
    "            O LangChain oferece uma série de classes capazes de ler e extrair o conteúdo de arquivos de diversas extensões. Usá-las pode requerir a instalação de algumas outras libs.\n",
    "        </li>\n",
    "        <li>\n",
    "            A leitura do arquivo resultará em uma outra classe chamada `Document`. Ela terá um atributo com o conteúdo do arquivo (page_content), e outra com seus metadados (metadata).\n",
    "        </li>\n",
    "        <li>\n",
    "            Existem, inclusive, classes de leitura de arquivos em dispositivos remotos (Bucket do S3) que podemos usar.\n",
    "        </li>\n",
    "    </ul>\n",
    " </div>"
   ]
  },
  {
   "cell_type": "markdown",
   "id": "84e4112b-a927-4dbd-b051-6b1b50ac363b",
   "metadata": {},
   "source": [
    "<h2 style='font-size:30px'> Search Criteria</h2>\n",
    "<div> \n",
    "    <ul style='font-size:20px'> \n",
    "        <li> \n",
    "            O que faremos em nosso chatbot é providenciar parte do texto do '04_facts.txt' ao prompt do ChatBot para ajudá-lo a responder nossas perguntas. Nós poderíamos tentar apenas copiar e colar todo o conteúdo do arquivo, mas, como sabemos, ele pode não caber em toda a janela de contexto\n",
    "        </li>\n",
    "        <li>\n",
    "            Nós usaremos embeddings junto com proximidade semântica a fim de selecionarmos os melhores trechos para implantar no prompt!\n",
    "        </li>\n",
    "    </ul>\n",
    " </div>"
   ]
  },
  {
   "cell_type": "markdown",
   "id": "e845428d-0f9a-45f3-9690-1e99772d893f",
   "metadata": {},
   "source": [
    "<p style='color:red'> Aula 31</p>"
   ]
  }
 ],
 "metadata": {
  "kernelspec": {
   "display_name": "Python 3 (ipykernel)",
   "language": "python",
   "name": "python3"
  },
  "language_info": {
   "codemirror_mode": {
    "name": "ipython",
    "version": 3
   },
   "file_extension": ".py",
   "mimetype": "text/x-python",
   "name": "python",
   "nbconvert_exporter": "python",
   "pygments_lexer": "ipython3",
   "version": "3.11.7"
  }
 },
 "nbformat": 4,
 "nbformat_minor": 5
}
