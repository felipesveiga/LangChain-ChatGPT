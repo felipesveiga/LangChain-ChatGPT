{
 "cells": [
  {
   "cell_type": "markdown",
   "id": "e043c94d-01fc-46a8-86cb-0c7ac806bfb7",
   "metadata": {},
   "source": [
    "<h1 style='font-size:40px'> Adding Context with Embedding Techniques</h1>"
   ]
  },
  {
   "cell_type": "markdown",
   "id": "ab091f72-84e7-4dd1-a134-86bdc91edded",
   "metadata": {},
   "source": [
    "<h2 style='font-size:30px'> Project Overview</h2>\n",
    "<div> \n",
    "    <ul style='font-size:20px'> \n",
    "        <li> \n",
    "            Aprenderemos aqui a criar um ChatBot com contexto enriquecido por uma fonte de informações externa. Ela poderá ser consultada pelo LLM, a fim de responder uma pergunta cujo assunto pode não estar armazenado na estrutura da IA.\n",
    "        </li>\n",
    "        <li>\n",
    "            Essa técnica pode ter uma série de aplicações úteis no mercado.\n",
    "        </li>\n",
    "    </ul>\n",
    " </div>"
   ]
  },
  {
   "cell_type": "markdown",
   "id": "e845428d-0f9a-45f3-9690-1e99772d893f",
   "metadata": {},
   "source": [
    "<p style='color:red'> Aula 31</p>"
   ]
  }
 ],
 "metadata": {
  "kernelspec": {
   "display_name": "Python 3 (ipykernel)",
   "language": "python",
   "name": "python3"
  },
  "language_info": {
   "codemirror_mode": {
    "name": "ipython",
    "version": 3
   },
   "file_extension": ".py",
   "mimetype": "text/x-python",
   "name": "python",
   "nbconvert_exporter": "python",
   "pygments_lexer": "ipython3",
   "version": "3.11.7"
  }
 },
 "nbformat": 4,
 "nbformat_minor": 5
}
