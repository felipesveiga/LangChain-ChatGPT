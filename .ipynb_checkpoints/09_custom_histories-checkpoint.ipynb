{
 "cells": [
  {
   "cell_type": "markdown",
   "id": "f0cb4abc-c77e-44a3-bbd3-418701708200",
   "metadata": {},
   "source": [
    "<h1 style='font-size:40px'> Custom Message Histories</h1>\n",
    "<div> \n",
    "    <ul style='font-size:20px'> \n",
    "        <li> \n",
    "            Esta seção será dedicada à montagem da interface de chat do nosso site. \n",
    "        </li>\n",
    "    </ul>\n",
    " </div>"
   ]
  },
  {
   "cell_type": "markdown",
   "id": "70deb419-0f06-45d9-9b3f-8672dbb66c57",
   "metadata": {},
   "source": [
    "<h2 style='font-size:30px'> Understanding the Apps Requirements</h2>\n",
    "<div> \n",
    "    <ul style='font-size:20px'> \n",
    "        <li>   \n",
    "            A montagem da interface envolverá certos desafios, como a persistência das mensagens trocadas nos diversos chats tidos. Além disso, vamos ter que garantir que a nossa classe de RAG resgate apenas os chunks referentes ao pdf escolhido. \n",
    "        </li>\n",
    "    </ul>\n",
    " </div>"
   ]
  },
  {
   "cell_type": "markdown",
   "id": "cc56547f-4ec2-4d13-bb46-8f95a78cb79f",
   "metadata": {},
   "source": [
    "<h2 style='font-size:30px'> Persistent Message Storage</h2>\n",
    "<div> \n",
    "    <ul style='font-size:20px'> \n",
    "        <li>   \n",
    "            O desafio da filtragem dos embeddings pode ser resolvido passando um dicionário como parâmetro de nosso objeto retriever. No nosso caso, deveremos passar o id do pdf como nosso argumento. \n",
    "            <center style='margin-top:20px'>\n",
    "                <img src='img/09_rag_filter.png'>\n",
    "            </center>\n",
    "        </li>\n",
    "    </ul>\n",
    " </div>"
   ]
  },
  {
   "cell_type": "markdown",
   "id": "ec30939d-c645-4c7c-83f2-c1576c8a1b7d",
   "metadata": {},
   "source": [
    "<p style='color:red'> Vi Aula 90 e Iniciei Aula 91; mencionar a abordagem de armazenamento de conversas (7:15)</p>"
   ]
  }
 ],
 "metadata": {
  "kernelspec": {
   "display_name": "Python 3 (ipykernel)",
   "language": "python",
   "name": "python3"
  },
  "language_info": {
   "codemirror_mode": {
    "name": "ipython",
    "version": 3
   },
   "file_extension": ".py",
   "mimetype": "text/x-python",
   "name": "python",
   "nbconvert_exporter": "python",
   "pygments_lexer": "ipython3",
   "version": "3.11.7"
  }
 },
 "nbformat": 4,
 "nbformat_minor": 5
}
