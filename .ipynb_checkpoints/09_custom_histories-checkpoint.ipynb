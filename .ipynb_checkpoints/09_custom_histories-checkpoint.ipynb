{
 "cells": [
  {
   "cell_type": "markdown",
   "id": "f0cb4abc-c77e-44a3-bbd3-418701708200",
   "metadata": {},
   "source": [
    "<h1 style='font-size:40px'> Custom Message Histories</h1>"
   ]
  },
  {
   "cell_type": "markdown",
   "id": "70deb419-0f06-45d9-9b3f-8672dbb66c57",
   "metadata": {},
   "source": [
    "<h2 style='font-size:30px'> Understanding the Apps Requirements</h2>\n",
    "<div> \n",
    "    <ul style='font-size:20px'> \n",
    "        <li>   \n",
    "        </li>\n",
    "    </ul>\n",
    " </div>"
   ]
  },
  {
   "cell_type": "markdown",
   "id": "ec30939d-c645-4c7c-83f2-c1576c8a1b7d",
   "metadata": {},
   "source": [
    "<p style='color:red'> Vi última aula seção 8; Aula 90</p>"
   ]
  }
 ],
 "metadata": {
  "kernelspec": {
   "display_name": "Python 3 (ipykernel)",
   "language": "python",
   "name": "python3"
  },
  "language_info": {
   "codemirror_mode": {
    "name": "ipython",
    "version": 3
   },
   "file_extension": ".py",
   "mimetype": "text/x-python",
   "name": "python",
   "nbconvert_exporter": "python",
   "pygments_lexer": "ipython3",
   "version": "3.11.7"
  }
 },
 "nbformat": 4,
 "nbformat_minor": 5
}
