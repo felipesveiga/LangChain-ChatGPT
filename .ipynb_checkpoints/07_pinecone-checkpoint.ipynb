{
 "cells": [
  {
   "cell_type": "markdown",
   "id": "a6531589-b441-4db9-bdc0-1ae4b416df7f",
   "metadata": {},
   "source": [
    "<h1 style='font-size:40px'> Pinecone as a Vector Database</h1>"
   ]
  },
  {
   "cell_type": "markdown",
   "id": "f05aac25-1166-4e51-8e86-11ed9116f9d0",
   "metadata": {},
   "source": [
    "<h2 style='font-size:30px'> App Overview</h2>\n",
    "<div> \n",
    "    <ul style='font-size:20px'> \n",
    "        <li> \n",
    "            Criaremos uma aplicação full-stack de LLM. Ela deverá ser abastecida por um PDF a partir do qual o modelo terá que gerar respostas para perguntas do usuário.\n",
    "        </li>\n",
    "    </ul>\n",
    "</div>"
   ]
  },
  {
   "cell_type": "markdown",
   "id": "e9dde364-0fb2-4476-93d9-ddc027512694",
   "metadata": {},
   "source": [
    "<p style='color:red'> Iniciei esta seção. Aula 68 </p>"
   ]
  }
 ],
 "metadata": {
  "kernelspec": {
   "display_name": "Python 3 (ipykernel)",
   "language": "python",
   "name": "python3"
  },
  "language_info": {
   "codemirror_mode": {
    "name": "ipython",
    "version": 3
   },
   "file_extension": ".py",
   "mimetype": "text/x-python",
   "name": "python",
   "nbconvert_exporter": "python",
   "pygments_lexer": "ipython3",
   "version": "3.11.7"
  }
 },
 "nbformat": 4,
 "nbformat_minor": 5
}
