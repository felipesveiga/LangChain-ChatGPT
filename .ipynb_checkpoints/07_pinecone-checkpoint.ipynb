{
 "cells": [
  {
   "cell_type": "markdown",
   "id": "a6531589-b441-4db9-bdc0-1ae4b416df7f",
   "metadata": {},
   "source": [
    "<h1 style='font-size:40px'> Pinecone as a Vector Database</h1>"
   ]
  },
  {
   "cell_type": "markdown",
   "id": "f05aac25-1166-4e51-8e86-11ed9116f9d0",
   "metadata": {},
   "source": [
    "<h2 style='font-size:30px'> App Overview</h2>\n",
    "<div> \n",
    "    <ul style='font-size:20px'> \n",
    "        <li> \n",
    "            Criaremos uma aplicação full-stack de LLM. Ela deverá ser abastecida por um PDF a partir do qual o modelo terá que gerar respostas para perguntas do usuário.\n",
    "        </li>\n",
    "    </ul>\n",
    "</div>"
   ]
  },
  {
   "cell_type": "markdown",
   "id": "f153f367-5a65-4736-87a8-4c182b9b71a2",
   "metadata": {},
   "source": [
    "<h2 style='font-size:30px'> How This App is Designed</h2>\n",
    "<div> \n",
    "    <ul style='font-size:20px'> \n",
    "        <li> \n",
    "            O instrutor preparou o código da parte de aplicação web para que foquemos apenas na programação em LangChain.\n",
    "        </li>\n",
    "        <li>\n",
    "            Nós vamos criar 4 funções, cujos arquivos já se encontram na pasta web.chat.\n",
    "        </li>\n",
    "    </ul>\n",
    "</div>"
   ]
  },
  {
   "cell_type": "markdown",
   "id": "5f61c991-8bea-4a04-82d2-14fa5050b42b",
   "metadata": {},
   "source": [
    "<h2 style='font-size:30px'> Introducing Pinecone</h2>\n",
    "<div> \n",
    "    <ul style='font-size:20px'> \n",
    "        <li> \n",
    "            Trabalharemos aqui com a Vector Store Pinecone. Diferentemente da Chroma, essa é uma base de vetores hospedada na nuvem.\n",
    "        </li>\n",
    "        <li>\n",
    "            Para interagir com ela, vamos ter que nos cadastrar no site da Pinecone e obter algumas chaves.\n",
    "        </li>\n",
    "    </ul>\n",
    "</div>"
   ]
  },
  {
   "cell_type": "markdown",
   "id": "ea6bac3c-b880-4b05-8bce-ca869575f517",
   "metadata": {},
   "source": [
    "<h3 style='font-size:30px;font-style:italic'> Criação da Vector Store</h3>\n",
    "<div> \n",
    "    <ul style='font-size:20px'> \n",
    "        <li> \n",
    "            O Pinecone chama as suas Vector DB's de índices. \n",
    "        </li>\n",
    "        <li>\n",
    "            Ao logar no site, clique em \"Create Index\". Você deverá preencher um formulário, informando a dimensionalidade dos seus embeddings e a métrica de query.\n",
    "        </li>\n",
    "        <li>\n",
    "            Uma vez criado o seu índice, acesse a aba \"API Keys\" e gere sua chave de acesso.\n",
    "        </li>\n",
    "    </ul>\n",
    " </div>"
   ]
  },
  {
   "cell_type": "markdown",
   "id": "e524dd84-ae1d-42dc-a3fa-c0f98f72eeff",
   "metadata": {},
   "source": [
    "<div> \n",
    "    <ul style='font-size:20px'> \n",
    "        <li> \n",
    "            Para que seu índice funcione, tenha em mãos sua chave de API, nome de ambiente e da sua DB.\n",
    "        </li>\n",
    "    </ul>\n",
    "</div>"
   ]
  },
  {
   "cell_type": "markdown",
   "id": "0310f159-5823-4908-98f6-8be8b297b81a",
   "metadata": {},
   "source": [
    "<h2 style='font-size:30px'> Initializing Pinecone Client</h2>\n",
    "<div> \n",
    "    <ul style='font-size:20px'> \n",
    "        <li> \n",
    "            Nessa aula, preparamos o nosso objeto vector store Pinecone para a inserção de dados em nosso índice.\n",
    "        </li>\n",
    "    </ul>\n",
    "</div>"
   ]
  },
  {
   "cell_type": "markdown",
   "id": "4a8967ae-1fec-4407-91ff-e56b293021b0",
   "metadata": {},
   "source": [
    "<h2 style='font-size:30px'> Adding Documents to the Vector Store</h2>\n",
    "<div> \n",
    "    <ul style='font-size:20px'> \n",
    "        <li> \n",
    "            Aqui, utilizamos a classe da aula passada para inserção dos embeddings no nosso índice.\n",
    "        </li>\n",
    "        <li>\n",
    "            Uma vez carregados, podemos enxergá-los no menu da Pinecone!\n",
    "        </li>\n",
    "    </ul>\n",
    "</div>"
   ]
  },
  {
   "cell_type": "markdown",
   "id": "b4a57c9d-7976-445d-baa1-c9a9b3b9a304",
   "metadata": {},
   "source": [
    "<center style='margin-top:20px'>\n",
    "                    <img src='img/07_pinecone_embs.png'>\n",
    "                </center>"
   ]
  },
  {
   "cell_type": "code",
   "execution_count": null,
   "id": "35188f3f-b750-4146-a290-68080c86c484",
   "metadata": {},
   "outputs": [],
   "source": [
    "07_pinecone_embs.png"
   ]
  },
  {
   "cell_type": "markdown",
   "id": "e9dde364-0fb2-4476-93d9-ddc027512694",
   "metadata": {},
   "source": [
    "<p style='color:red'> Vi Aula 77 e 78; Seção 8. NÃO MODULARIZAR OS ARQUIVOS!! </p>"
   ]
  }
 ],
 "metadata": {
  "kernelspec": {
   "display_name": "Python 3 (ipykernel)",
   "language": "python",
   "name": "python3"
  },
  "language_info": {
   "codemirror_mode": {
    "name": "ipython",
    "version": 3
   },
   "file_extension": ".py",
   "mimetype": "text/x-python",
   "name": "python",
   "nbconvert_exporter": "python",
   "pygments_lexer": "ipython3",
   "version": "3.11.7"
  }
 },
 "nbformat": 4,
 "nbformat_minor": 5
}
