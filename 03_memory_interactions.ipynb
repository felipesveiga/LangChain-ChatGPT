{
 "cells": [
  {
   "cell_type": "markdown",
   "id": "1ea07b9b-2159-4337-a0f2-d526986a4ce6",
   "metadata": {},
   "source": [
    "<h1 style='font-size:40px'>  Deep Dive into Interactions with Memory Management</h1>"
   ]
  },
  {
   "cell_type": "markdown",
   "id": "1fce62a0-6bd6-48bd-8860-61b1bdc585bf",
   "metadata": {},
   "source": [
    "<h2 style='font-size:30px'> App Overview</h2>\n",
    "<div> \n",
    "    <ul style='font-size:20px'> \n",
    "        <li>  \n",
    "            Vamos construir nesta seção um chatbot. Ele não apenas será capaz de responder os prompts do usuário, como também ser consciente do histórico da conversa.\n",
    "        </li>\n",
    "    </ul>\n",
    "</div>"
   ]
  },
  {
   "cell_type": "markdown",
   "id": "6c5341ed-779d-4f87-8ff1-bde30ca7bbda",
   "metadata": {},
   "source": [
    "<h2 style='font-size:30px'> Chat vs Completion Style Models</h2>\n",
    "<div> \n",
    "    <ul style='font-size:20px'> \n",
    "        <li>  \n",
    "            Os LLM's são divididos em diferentes modalidades. Existem tanto os modelos de chat (GPT, Bard), quanto os especializados em completar textos passados pelo usuário (text-davinci-003). Estes últimos são conhecidos como LLM's tradicionais; tanto é que a documentação do LangChain normalmente se refere a esse tipo de modelos, quando menciona o termo \"LLM\".\n",
    "        </li>\n",
    "    </ul>\n",
    "</div>"
   ]
  },
  {
   "cell_type": "markdown",
   "id": "4f6ed079-eac2-4aee-8208-b9059ff525ff",
   "metadata": {},
   "source": [
    "<p style='color:red'> Aula 20 (4:45), explicar os diferentes tipos de mensagem</p>\n",
    "</p>"
   ]
  }
 ],
 "metadata": {
  "kernelspec": {
   "display_name": "Python 3 (ipykernel)",
   "language": "python",
   "name": "python3"
  },
  "language_info": {
   "codemirror_mode": {
    "name": "ipython",
    "version": 3
   },
   "file_extension": ".py",
   "mimetype": "text/x-python",
   "name": "python",
   "nbconvert_exporter": "python",
   "pygments_lexer": "ipython3",
   "version": "3.11.7"
  }
 },
 "nbformat": 4,
 "nbformat_minor": 5
}
