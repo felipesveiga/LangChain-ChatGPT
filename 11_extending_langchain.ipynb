{
 "cells": [
  {
   "cell_type": "markdown",
   "id": "686ffb7d-0ba6-488f-866b-08b52595ed36",
   "metadata": {},
   "source": [
    "<h1 style='font-size:40px'> Extending LangChain</h1>"
   ]
  },
  {
   "cell_type": "markdown",
   "id": "acb10644-d646-4474-be14-275da11a94f0",
   "metadata": {},
   "source": [
    "<p style='color:red'> Iniciei Aula 110; Aula 110 (2:10)</p>"
   ]
  }
 ],
 "metadata": {
  "kernelspec": {
   "display_name": "Python 3 (ipykernel)",
   "language": "python",
   "name": "python3"
  },
  "language_info": {
   "codemirror_mode": {
    "name": "ipython",
    "version": 3
   },
   "file_extension": ".py",
   "mimetype": "text/x-python",
   "name": "python",
   "nbconvert_exporter": "python",
   "pygments_lexer": "ipython3",
   "version": "3.11.7"
  }
 },
 "nbformat": 4,
 "nbformat_minor": 5
}
