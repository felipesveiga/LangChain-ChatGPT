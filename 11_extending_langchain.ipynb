{
 "cells": [
  {
   "cell_type": "markdown",
   "id": "686ffb7d-0ba6-488f-866b-08b52595ed36",
   "metadata": {},
   "source": [
    "<h1 style='font-size:40px'> Extending LangChain</h1>"
   ]
  },
  {
   "cell_type": "markdown",
   "id": "b266c078-5306-4bf9-9774-748e7ea67ac9",
   "metadata": {},
   "source": [
    "<h2 style='font-size:30px'> Testing the Streaming Setup</h2>\n",
    "<div> \n",
    "    <ul style='font-size:20px'> \n",
    "        <li>   \n",
    "            Uma vez implantada a nossa chain com suporte a streaming, repararemos num erro do Flask que afirma que a Thread criada não tem acesso ao cotexto de nossa aplicação.\n",
    "            <center style='margin-top:20px'> \n",
    "                <img src='img/11_thread_context.png'>\n",
    "            </center>\n",
    "        </li>\n",
    "        <li style='margin-top:20px'>\n",
    "            O contexto do site contém metadados importantes para a sua execução.\n",
    "        </li>\n",
    "        <li>\n",
    "            Felizmente, o Flask tem uma variável (a `current_app`), que possibilita que nós invoquemos o contexto da aplicação dentro do contexto de um objeto particular.\n",
    "        </li>\n",
    "    </ul>\n",
    " </div>"
   ]
  },
  {
   "cell_type": "markdown",
   "id": "e1a4d3c0-7795-48f7-984d-26cd6d19fc93",
   "metadata": {},
   "source": [
    "<figure>\n",
    "    <center style='margin-top:20px'>\n",
    "        <img src='img/11_current_app.png'>\n",
    "            <figcaption> Implementação do `current_app` na classe de nossa `StreamableChain`.</figcaption>\n",
    "    </center>\n",
    "</figure>"
   ]
  },
  {
   "cell_type": "markdown",
   "id": "acb10644-d646-4474-be14-275da11a94f0",
   "metadata": {},
   "source": [
    "<p style='color:red'> Continuei Aula 111; Aula 111 (5:40)</p>"
   ]
  }
 ],
 "metadata": {
  "kernelspec": {
   "display_name": "Python 3 (ipykernel)",
   "language": "python",
   "name": "python3"
  },
  "language_info": {
   "codemirror_mode": {
    "name": "ipython",
    "version": 3
   },
   "file_extension": ".py",
   "mimetype": "text/x-python",
   "name": "python",
   "nbconvert_exporter": "python",
   "pygments_lexer": "ipython3",
   "version": "3.11.7"
  }
 },
 "nbformat": 4,
 "nbformat_minor": 5
}
