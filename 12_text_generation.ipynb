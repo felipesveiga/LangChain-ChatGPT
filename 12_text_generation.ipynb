{
 "cells": [
  {
   "cell_type": "markdown",
   "id": "3e68615c-17fd-4873-993d-f56e04696ee5",
   "metadata": {},
   "source": [
    "<h1 style='font-size:40px'> Self-Improving Text Generation</h1>"
   ]
  },
  {
   "cell_type": "markdown",
   "id": "14144a4a-a58b-4b64-ac70-7280944eac9b",
   "metadata": {},
   "source": [
    "<p style='color:red'> Vi Aula 114; Iniciar seção 12</p>"
   ]
  }
 ],
 "metadata": {
  "kernelspec": {
   "display_name": "Python 3 (ipykernel)",
   "language": "python",
   "name": "python3"
  },
  "language_info": {
   "codemirror_mode": {
    "name": "ipython",
    "version": 3
   },
   "file_extension": ".py",
   "mimetype": "text/x-python",
   "name": "python",
   "nbconvert_exporter": "python",
   "pygments_lexer": "ipython3",
   "version": "3.12.3"
  }
 },
 "nbformat": 4,
 "nbformat_minor": 5
}
