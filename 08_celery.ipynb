{
 "cells": [
  {
   "cell_type": "markdown",
   "id": "6bb81b23-d44d-49fe-afc4-33b5cd5bd216",
   "metadata": {},
   "source": [
    "<h1 style='font-size:40px'> Distributed Text Generation with Celery</h1>"
   ]
  }
 ],
 "metadata": {
  "kernelspec": {
   "display_name": "Python 3 (ipykernel)",
   "language": "python",
   "name": "python3"
  },
  "language_info": {
   "codemirror_mode": {
    "name": "ipython",
    "version": 3
   },
   "file_extension": ".py",
   "mimetype": "text/x-python",
   "name": "python",
   "nbconvert_exporter": "python",
   "pygments_lexer": "ipython3",
   "version": "3.11.7"
  }
 },
 "nbformat": 4,
 "nbformat_minor": 5
}
