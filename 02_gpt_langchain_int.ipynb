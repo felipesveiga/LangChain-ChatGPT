{
 "cells": [
  {
   "cell_type": "markdown",
   "id": "1dbab94f-af13-4d2c-a3f9-d53dd5f5c8ee",
   "metadata": {},
   "source": [
    "<h1 style='font-size:40px'> ChatGPT and LangChain Integration</h1>"
   ]
  },
  {
   "cell_type": "markdown",
   "id": "16177165-62e1-4ad0-b417-aa12747c196f",
   "metadata": {
    "tags": []
   },
   "source": [
    "<h2 style='font-size:30px'> Using LangChain the Simple Way</h2>\n",
    "<div> \n",
    "    <ul style='font-size:20px'> \n",
    "        <li> \n",
    "            Nessa aula, programamos uma aplicação bastante simples que consulta a API do ChatGPT.\n",
    "        </li>\n",
    "        <li>\n",
    "            Para usar o modelo, tivemos que criar uma chave no <a href='https://platform.openai.com/docs/overview'>site</a> da OpenAI.\n",
    "            <center style='margin-top:20px'> \n",
    "                <img src='img/02_first_application.png'>\n",
    "            </center>\n",
    "        </li>\n",
    "    </ul>\n",
    "</div>"
   ]
  },
  {
   "cell_type": "markdown",
   "id": "aa140b8a-8bd2-4783-9b2a-74e332b29024",
   "metadata": {},
   "source": [
    "<h2 style='font-size:30px'> Introducing Chains</h2>\n",
    "<div> \n",
    "    <ul style='font-size:20px'> \n",
    "        <li> \n",
    "            As Chains são os elementos centrais do LangChain. É graças a elas que podemos ligar todos os componentes da nossa Pipeline de LLM's, possibilitando inclusive a fácil substituição de um por outro. \n",
    "        </li>\n",
    "    </ul>\n",
    "</div>"
   ]
  },
  {
   "cell_type": "markdown",
   "id": "6b000ecc-0542-46d9-a6ae-fcfb474c03bd",
   "metadata": {},
   "source": [
    "<h3 style='font-size:30px;font-style:italic'> Chains</h3>\n",
    "<div> \n",
    "    <ul style='font-size:20px'> \n",
    "        <li> \n",
    "            Na lib, uma Chain é uma classe do Python que encapsulará um Prompt Template e um LLM. Um Prompt Template é uma string com o texto padrão que abastecerá o modelo. Ele contém espaços em branco que receberão os inputs do usuário.  \n",
    "        </li> \n",
    "        <li>\n",
    "            Os inputs são dados como um JSON, que mapeia a &lt;variavel&gt;:&lt;valor&gt;. O output da chain será também um dicionário contendo as chaves e valores do input e o resultado do modelo.\n",
    "            <center style='margin-top:20px'> \n",
    "                <img src='img/02_chain_logic.png'>\n",
    "            </center>\n",
    "        </li>\n",
    "        <li style='margin-top:20px'>\n",
    "            Por sua vez, o JSON de output poderá ser usado para abastecer uma outra Chain, responsável por fazer outro processamento. No final das contas, conseguiremos criar um sistema de NLP com o encadeamento de várias Chains!\n",
    "        </li>\n",
    "    </ul>\n",
    "</div>"
   ]
  },
  {
   "cell_type": "markdown",
   "id": "5280adca-4016-467e-919e-37264a4937cb",
   "metadata": {},
   "source": [
    "<p style='color:red'> Aula 15 (Extender a CLI conforme o diagrama de 0:55)</p>\n",
    "</p>"
   ]
  }
 ],
 "metadata": {
  "kernelspec": {
   "display_name": "Python 3 (ipykernel)",
   "language": "python",
   "name": "python3"
  },
  "language_info": {
   "codemirror_mode": {
    "name": "ipython",
    "version": 3
   },
   "file_extension": ".py",
   "mimetype": "text/x-python",
   "name": "python",
   "nbconvert_exporter": "python",
   "pygments_lexer": "ipython3",
   "version": "3.11.7"
  }
 },
 "nbformat": 4,
 "nbformat_minor": 5
}
